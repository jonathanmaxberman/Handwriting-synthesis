{
  "nbformat": 4,
  "nbformat_minor": 0,
  "metadata": {
    "colab": {
      "provenance": [],
      "mount_file_id": "1yRvoBDk4H24twfIUoTFBUDJWFBB0KUY_",
      "authorship_tag": "ABX9TyOp5iM6nFYQPt5hF8WQMKFR",
      "include_colab_link": true
    },
    "kernelspec": {
      "name": "python3",
      "display_name": "Python 3"
    },
    "language_info": {
      "name": "python"
    },
    "widgets": {
      "application/vnd.jupyter.widget-state+json": {
        "e3917185627d4d0b8472e84c16a0024e": {
          "model_module": "@jupyter-widgets/controls",
          "model_name": "TextModel",
          "model_module_version": "1.5.0",
          "state": {
            "_dom_classes": [],
            "_model_module": "@jupyter-widgets/controls",
            "_model_module_version": "1.5.0",
            "_model_name": "TextModel",
            "_view_count": null,
            "_view_module": "@jupyter-widgets/controls",
            "_view_module_version": "1.5.0",
            "_view_name": "TextView",
            "continuous_update": true,
            "description": "Priming Sequence:",
            "description_tooltip": null,
            "disabled": false,
            "layout": "IPY_MODEL_667543d8373b42f7a85ecbbe85a199c7",
            "placeholder": "​",
            "style": "IPY_MODEL_2f19a11a079842cc95322736f772b992",
            "value": "Doctor Who"
          }
        },
        "667543d8373b42f7a85ecbbe85a199c7": {
          "model_module": "@jupyter-widgets/base",
          "model_name": "LayoutModel",
          "model_module_version": "1.2.0",
          "state": {
            "_model_module": "@jupyter-widgets/base",
            "_model_module_version": "1.2.0",
            "_model_name": "LayoutModel",
            "_view_count": null,
            "_view_module": "@jupyter-widgets/base",
            "_view_module_version": "1.2.0",
            "_view_name": "LayoutView",
            "align_content": null,
            "align_items": null,
            "align_self": null,
            "border": null,
            "bottom": null,
            "display": null,
            "flex": null,
            "flex_flow": null,
            "grid_area": null,
            "grid_auto_columns": null,
            "grid_auto_flow": null,
            "grid_auto_rows": null,
            "grid_column": null,
            "grid_gap": null,
            "grid_row": null,
            "grid_template_areas": null,
            "grid_template_columns": null,
            "grid_template_rows": null,
            "height": null,
            "justify_content": null,
            "justify_items": null,
            "left": null,
            "margin": null,
            "max_height": null,
            "max_width": null,
            "min_height": null,
            "min_width": null,
            "object_fit": null,
            "object_position": null,
            "order": null,
            "overflow": null,
            "overflow_x": null,
            "overflow_y": null,
            "padding": null,
            "right": null,
            "top": null,
            "visibility": null,
            "width": null
          }
        },
        "2f19a11a079842cc95322736f772b992": {
          "model_module": "@jupyter-widgets/controls",
          "model_name": "DescriptionStyleModel",
          "model_module_version": "1.5.0",
          "state": {
            "_model_module": "@jupyter-widgets/controls",
            "_model_module_version": "1.5.0",
            "_model_name": "DescriptionStyleModel",
            "_view_count": null,
            "_view_module": "@jupyter-widgets/base",
            "_view_module_version": "1.2.0",
            "_view_name": "StyleView",
            "description_width": ""
          }
        }
      }
    }
  },
  "cells": [
    {
      "cell_type": "markdown",
      "metadata": {
        "id": "view-in-github",
        "colab_type": "text"
      },
      "source": [
        "<a href=\"https://colab.research.google.com/github/jonathanmaxberman/Handwriting-synthesis/blob/master/GeneratePrimingFiles.ipynb\" target=\"_parent\"><img src=\"https://colab.research.google.com/assets/colab-badge.svg\" alt=\"Open In Colab\"/></a>"
      ]
    },
    {
      "cell_type": "markdown",
      "source": [
        "**Priming**\n",
        "Enter a short string of characters to act as a priming sequnce. Draw in the HTML canvas handwriting to produce the priming data. Move generated files to the \"styles\" folder with a unique style number."
      ],
      "metadata": {
        "id": "i1JOkt_VCNns"
      }
    },
    {
      "cell_type": "code",
      "source": [
        "from io import RawIOBase\n",
        "import numpy as np\n",
        "import ipywidgets as widgets\n",
        "import drawing\n",
        "from IPython.display import display, Javascript, HTML\n",
        "from google.colab import output\n",
        "import json\n",
        "from google.colab import files\n",
        "\n",
        "# Import necessary functions from the library\n",
        "from drawing import align, denoise, coords_to_offsets, normalize\n",
        "\n",
        "np.set_printoptions(suppress=True, precision=8, floatmode='fixed')\n",
        "\n",
        "\n",
        "\n",
        "def handle_draw_data(data):\n",
        "    # Decode the JSON data\n",
        "    draw_data = json.loads(data)\n",
        "    strokes = np.array(draw_data, dtype=np.float64)\n",
        "    # Process the strokes data using the library functions\n",
        "    #strokes = strokes.astype(np.float32)\n",
        "    canvas_height = 200\n",
        "    strokes[:, 1] = canvas_height - strokes[:,1]\n",
        "\n",
        "    strokes = align(strokes)\n",
        "    strokes = denoise(strokes)\n",
        "    offsets = coords_to_offsets(strokes)\n",
        "    normalized_strokes = normalize(offsets)\n",
        "\n",
        "    # Truncate or pad the data as needed (assuming MAX_STROKE_LEN is defined in the library)\n",
        "    normalized_strokes = normalized_strokes[:drawing.MAX_STROKE_LEN]\n",
        "    if len(normalized_strokes) < drawing.MAX_STROKE_LEN:\n",
        "        padding = np.zeros((drawing.MAX_STROKE_LEN - len(normalized_strokes), 3))\n",
        "        normalized_strokes = np.vstack((normalized_strokes, padding))\n",
        "    # Save the normalized strokes data as a .npy file\n",
        "    normalized_strokes = normalized_strokes.astype(np.float32)\n",
        "    np.save('style-13-strokes.npy', normalized_strokes)\n",
        "    print(\"Normalized strokes data saved.\")\n",
        "\n",
        "    # Get the priming sequence from the text widget and encode it as a byte string\n",
        "    priming_sequence = text.value.encode()\n",
        "\n",
        "    # Convert the byte string to a numpy array\n",
        "    #char_array = np.frombuffer(priming_sequence, dtype=np.uint8)\n",
        "\n",
        "    # Save the priming sequence as a .npy file\n",
        "    np.save('style-13-chars.npy', priming_sequence)\n",
        "    print(\"Priming sequence saved.\")\n",
        "\n",
        "    # Download the files to your local machine\n",
        "    files.download('style-13-strokes.npy')\n",
        "    files.download('style-13-chars.npy')\n",
        "\n",
        "# Create a textbox for the priming sequence\n",
        "text = widgets.Text(description='Priming Sequence:')\n",
        "display(text)\n",
        "\n",
        "\n",
        "# Create a canvas for drawing\n",
        "canvas_html = \"\"\"\n",
        "\n",
        "<canvas id=\"canvas\" width=\"800\" height=\"200\" style=\"border:1px solid black;\"></canvas>\n",
        "<button id=\"sendData\">Send Data</button>\n",
        "\n",
        "<script>\n",
        "    var canvas = document.getElementById('canvas');\n",
        "    var ctx = canvas.getContext('2d');\n",
        "\n",
        "    var mousePressed = false;\n",
        "    var strokeData = [];\n",
        "\n",
        "    canvas.addEventListener('mousedown', function(e) {\n",
        "        mousePressed = true;\n",
        "        var x = e.pageX - this.offsetLeft;\n",
        "        var y = e.pageY - this.offsetTop;\n",
        "        draw(x, y, false);\n",
        "        strokeData.push([x, y, 0]); // Start of a new stroke\n",
        "    });\n",
        "\n",
        "    canvas.addEventListener('mousemove', function(e) {\n",
        "        if (mousePressed) {\n",
        "            var x = e.pageX - this.offsetLeft;\n",
        "            var y = e.pageY - this.offsetTop;\n",
        "            draw(x, y, true);\n",
        "            strokeData.push([x, y, 0]); // Continue the stroke\n",
        "        }\n",
        "    });\n",
        "\n",
        "    canvas.addEventListener('mouseup', function(e) {\n",
        "        mousePressed = false;\n",
        "        var x = e.pageX - this.offsetLeft;\n",
        "        var y = e.pageY - this.offsetTop;\n",
        "        strokeData.push([x, y, 1]); // End of the stroke\n",
        "    });\n",
        "\n",
        "    canvas.addEventListener('mouseleave', function(e) {\n",
        "        mousePressed = false;\n",
        "    });\n",
        "\n",
        "    function draw(x, y, isDown) {\n",
        "        if (isDown) {\n",
        "            ctx.beginPath();\n",
        "            ctx.strokeStyle = 'black';\n",
        "            ctx.lineWidth = 2;\n",
        "            ctx.lineJoin = 'round';\n",
        "            ctx.moveTo(strokeData[strokeData.length - 1][0], strokeData[strokeData.length - 1][1]); // Move to the last point\n",
        "            ctx.lineTo(x, y);\n",
        "            ctx.closePath();\n",
        "            ctx.stroke();\n",
        "        }\n",
        "    }\n",
        "\n",
        "    document.getElementById('sendData').addEventListener('click', function() {\n",
        "        console.log(JSON.stringify(strokeData));\n",
        "\n",
        "        // Send the stroke data to the Python function for further processing\n",
        "        google.colab.kernel.invokeFunction('notebook.handle_draw_data', [JSON.stringify(strokeData)], {});\n",
        "        strokeData = [];\n",
        "        ctx.clearRect(0, 0, canvas.width, canvas.height);\n",
        "    });\n",
        "</script>\n",
        "\n",
        "\n",
        "\"\"\"\n",
        "display(HTML(canvas_html))\n",
        "\n",
        "# Register the callback function\n",
        "output.register_callback('notebook.handle_draw_data', handle_draw_data)"
      ],
      "metadata": {
        "colab": {
          "base_uri": "https://localhost:8080/",
          "height": 293,
          "referenced_widgets": [
            "e3917185627d4d0b8472e84c16a0024e",
            "667543d8373b42f7a85ecbbe85a199c7",
            "2f19a11a079842cc95322736f772b992"
          ]
        },
        "id": "3AMjY9ARu-dK",
        "outputId": "76f5dcbc-2946-4e9f-c99e-d75c30a0dca7"
      },
      "execution_count": 19,
      "outputs": [
        {
          "output_type": "display_data",
          "data": {
            "text/plain": [
              "Text(value='', description='Priming Sequence:')"
            ],
            "application/vnd.jupyter.widget-view+json": {
              "version_major": 2,
              "version_minor": 0,
              "model_id": "e3917185627d4d0b8472e84c16a0024e"
            }
          },
          "metadata": {}
        },
        {
          "output_type": "display_data",
          "data": {
            "text/plain": [
              "<IPython.core.display.HTML object>"
            ],
            "text/html": [
              "\n",
              "\n",
              "<canvas id=\"canvas\" width=\"800\" height=\"200\" style=\"border:1px solid black;\"></canvas>\n",
              "<button id=\"sendData\">Send Data</button>\n",
              "\n",
              "<script>\n",
              "    var canvas = document.getElementById('canvas');\n",
              "    var ctx = canvas.getContext('2d');\n",
              "\n",
              "    var mousePressed = false;\n",
              "    var strokeData = [];\n",
              "\n",
              "    canvas.addEventListener('mousedown', function(e) {\n",
              "        mousePressed = true;\n",
              "        var x = e.pageX - this.offsetLeft;\n",
              "        var y = e.pageY - this.offsetTop;\n",
              "        draw(x, y, false);\n",
              "        strokeData.push([x, y, 0]); // Start of a new stroke\n",
              "    });\n",
              "\n",
              "    canvas.addEventListener('mousemove', function(e) {\n",
              "        if (mousePressed) {\n",
              "            var x = e.pageX - this.offsetLeft;\n",
              "            var y = e.pageY - this.offsetTop;\n",
              "            draw(x, y, true);\n",
              "            strokeData.push([x, y, 0]); // Continue the stroke\n",
              "        }\n",
              "    });\n",
              "\n",
              "    canvas.addEventListener('mouseup', function(e) {\n",
              "        mousePressed = false;\n",
              "        var x = e.pageX - this.offsetLeft;\n",
              "        var y = e.pageY - this.offsetTop;\n",
              "        strokeData.push([x, y, 1]); // End of the stroke\n",
              "    });\n",
              "\n",
              "    canvas.addEventListener('mouseleave', function(e) {\n",
              "        mousePressed = false;\n",
              "    });\n",
              "\n",
              "    function draw(x, y, isDown) {\n",
              "        if (isDown) {\n",
              "            ctx.beginPath();\n",
              "            ctx.strokeStyle = 'black';\n",
              "            ctx.lineWidth = 2;\n",
              "            ctx.lineJoin = 'round';\n",
              "            ctx.moveTo(strokeData[strokeData.length - 1][0], strokeData[strokeData.length - 1][1]); // Move to the last point\n",
              "            ctx.lineTo(x, y);\n",
              "            ctx.closePath();\n",
              "            ctx.stroke();\n",
              "        }\n",
              "    }\n",
              "\n",
              "    document.getElementById('sendData').addEventListener('click', function() {\n",
              "        console.log(JSON.stringify(strokeData));\n",
              "\n",
              "        // Send the stroke data to the Python function for further processing\n",
              "        google.colab.kernel.invokeFunction('notebook.handle_draw_data', [JSON.stringify(strokeData)], {});\n",
              "        strokeData = [];\n",
              "        ctx.clearRect(0, 0, canvas.width, canvas.height);\n",
              "    });\n",
              "</script>\n",
              "\n",
              "\n"
            ]
          },
          "metadata": {}
        },
        {
          "output_type": "stream",
          "name": "stdout",
          "text": [
            "Normalized strokes data saved.\n",
            "Priming sequence saved.\n"
          ]
        },
        {
          "output_type": "display_data",
          "data": {
            "text/plain": [
              "<IPython.core.display.Javascript object>"
            ],
            "application/javascript": [
              "\n",
              "    async function download(id, filename, size) {\n",
              "      if (!google.colab.kernel.accessAllowed) {\n",
              "        return;\n",
              "      }\n",
              "      const div = document.createElement('div');\n",
              "      const label = document.createElement('label');\n",
              "      label.textContent = `Downloading \"${filename}\": `;\n",
              "      div.appendChild(label);\n",
              "      const progress = document.createElement('progress');\n",
              "      progress.max = size;\n",
              "      div.appendChild(progress);\n",
              "      document.body.appendChild(div);\n",
              "\n",
              "      const buffers = [];\n",
              "      let downloaded = 0;\n",
              "\n",
              "      const channel = await google.colab.kernel.comms.open(id);\n",
              "      // Send a message to notify the kernel that we're ready.\n",
              "      channel.send({})\n",
              "\n",
              "      for await (const message of channel.messages) {\n",
              "        // Send a message to notify the kernel that we're ready.\n",
              "        channel.send({})\n",
              "        if (message.buffers) {\n",
              "          for (const buffer of message.buffers) {\n",
              "            buffers.push(buffer);\n",
              "            downloaded += buffer.byteLength;\n",
              "            progress.value = downloaded;\n",
              "          }\n",
              "        }\n",
              "      }\n",
              "      const blob = new Blob(buffers, {type: 'application/binary'});\n",
              "      const a = document.createElement('a');\n",
              "      a.href = window.URL.createObjectURL(blob);\n",
              "      a.download = filename;\n",
              "      div.appendChild(a);\n",
              "      a.click();\n",
              "      div.remove();\n",
              "    }\n",
              "  "
            ]
          },
          "metadata": {}
        },
        {
          "output_type": "display_data",
          "data": {
            "text/plain": [
              "<IPython.core.display.Javascript object>"
            ],
            "application/javascript": [
              "download(\"download_61b2c474-b9d8-419f-89df-2d30a34e9ebb\", \"style-13-strokes.npy\", 14528)"
            ]
          },
          "metadata": {}
        },
        {
          "output_type": "display_data",
          "data": {
            "text/plain": [
              "<IPython.core.display.Javascript object>"
            ],
            "application/javascript": [
              "\n",
              "    async function download(id, filename, size) {\n",
              "      if (!google.colab.kernel.accessAllowed) {\n",
              "        return;\n",
              "      }\n",
              "      const div = document.createElement('div');\n",
              "      const label = document.createElement('label');\n",
              "      label.textContent = `Downloading \"${filename}\": `;\n",
              "      div.appendChild(label);\n",
              "      const progress = document.createElement('progress');\n",
              "      progress.max = size;\n",
              "      div.appendChild(progress);\n",
              "      document.body.appendChild(div);\n",
              "\n",
              "      const buffers = [];\n",
              "      let downloaded = 0;\n",
              "\n",
              "      const channel = await google.colab.kernel.comms.open(id);\n",
              "      // Send a message to notify the kernel that we're ready.\n",
              "      channel.send({})\n",
              "\n",
              "      for await (const message of channel.messages) {\n",
              "        // Send a message to notify the kernel that we're ready.\n",
              "        channel.send({})\n",
              "        if (message.buffers) {\n",
              "          for (const buffer of message.buffers) {\n",
              "            buffers.push(buffer);\n",
              "            downloaded += buffer.byteLength;\n",
              "            progress.value = downloaded;\n",
              "          }\n",
              "        }\n",
              "      }\n",
              "      const blob = new Blob(buffers, {type: 'application/binary'});\n",
              "      const a = document.createElement('a');\n",
              "      a.href = window.URL.createObjectURL(blob);\n",
              "      a.download = filename;\n",
              "      div.appendChild(a);\n",
              "      a.click();\n",
              "      div.remove();\n",
              "    }\n",
              "  "
            ]
          },
          "metadata": {}
        },
        {
          "output_type": "display_data",
          "data": {
            "text/plain": [
              "<IPython.core.display.Javascript object>"
            ],
            "application/javascript": [
              "download(\"download_ca19950a-7fae-4021-8432-a09df7879be6\", \"style-13-chars.npy\", 138)"
            ]
          },
          "metadata": {}
        }
      ]
    },
    {
      "cell_type": "markdown",
      "source": [
        "Examine the contents of numpy files."
      ],
      "metadata": {
        "id": "UE6k7N8nCsPr"
      }
    },
    {
      "cell_type": "code",
      "source": [
        "# Load the .npy file\n",
        "file_path = '/content/style-9-strokes.npy'  # Replace with the actual path to your .npy file\n",
        "data = np.load(file_path, allow_pickle=True, encoding='bytes')\n",
        "\n",
        "# Print the content of the NumPy array\n",
        "print(data, data.dtype)"
      ],
      "metadata": {
        "colab": {
          "base_uri": "https://localhost:8080/"
        },
        "id": "NseYZ8zgCfaz",
        "outputId": "b0f8fe96-e00e-4449-801e-b3aeb208d095"
      },
      "execution_count": null,
      "outputs": [
        {
          "output_type": "stream",
          "name": "stdout",
          "text": [
            "[[ 0.00000000  0.00000000  1.00000000]\n",
            " [ 0.02137598 -0.05878394  0.00000000]\n",
            " [ 0.00000000 -0.00534400  0.00000000]\n",
            " ...\n",
            " [-0.51836753 -1.24158823  0.00000000]\n",
            " [-0.36161032 -1.19527352  0.00000000]\n",
            " [-0.18525849 -0.91738582  0.00000000]] float32\n"
          ]
        }
      ]
    },
    {
      "cell_type": "markdown",
      "source": [
        "Examine the writing in a style .npy file."
      ],
      "metadata": {
        "id": "3eZoR3k6CwA6"
      }
    },
    {
      "cell_type": "code",
      "source": [
        "pip install svgwrite"
      ],
      "metadata": {
        "colab": {
          "base_uri": "https://localhost:8080/"
        },
        "id": "vjXrvAbjDODQ",
        "outputId": "b47d57f7-85e1-4ffa-a129-67ed1f57b427"
      },
      "execution_count": 14,
      "outputs": [
        {
          "output_type": "stream",
          "name": "stdout",
          "text": [
            "Requirement already satisfied: svgwrite in /usr/local/lib/python3.10/dist-packages (1.4.3)\n"
          ]
        }
      ]
    },
    {
      "cell_type": "code",
      "source": [
        "import matplotlib\n",
        "from matplotlib import pyplot\n",
        "\n",
        "import svgwrite\n",
        "import numpy as np\n",
        "from IPython.display import SVG, display\n",
        "\n",
        "def plot_stroke(stroke, save_name=None):\n",
        "    # Plot a single example.\n",
        "    f, ax = pyplot.subplots()\n",
        "\n",
        "    x = np.cumsum(stroke[:, 1])\n",
        "    y = np.cumsum(stroke[:, 2])\n",
        "\n",
        "    size_x = x.max() - x.min() + 1.0\n",
        "    size_y = y.max() - y.min() + 1.0\n",
        "\n",
        "    f.set_size_inches(5.0 * size_x / size_y, 5.0)\n",
        "\n",
        "    cuts = np.where(stroke[:, 0] == 1)[0]\n",
        "    start = 0\n",
        "\n",
        "    for cut_value in cuts:\n",
        "        ax.plot(x[start:cut_value], y[start:cut_value], \"k-\", linewidth=3)\n",
        "        start = cut_value + 1\n",
        "\n",
        "    ax.axis(\"off\")  # equal\n",
        "    ax.axes.get_xaxis().set_visible(False)\n",
        "    ax.axes.get_yaxis().set_visible(False)\n",
        "\n",
        "    if save_name is None:\n",
        "        pyplot.show()\n",
        "    else:\n",
        "        try:\n",
        "            pyplot.savefig(save_name, bbox_inches=\"tight\", pad_inches=0.5)\n",
        "        except Exception:\n",
        "            print(\"Error building image!: \" + save_name)\n",
        "\n",
        "    pyplot.close()\n",
        "\n",
        "def rearrange_strokes(data):\n",
        "    # Extract up/down, x, and y from the data\n",
        "    up_down = data[:, 2]  # Extract up/down values from the third column\n",
        "    x = data[:, 0]       # Extract x values from the first column\n",
        "    y = data[:, 1]       # Extract y values from the second column\n",
        "\n",
        "    # Create a new array with the rearranged format \"up/down, x, y\"\n",
        "    rearranged_data = np.column_stack((up_down, x, y))\n",
        "\n",
        "    return rearranged_data\n",
        "\n",
        "\n",
        "file_path = '/content/style-13-strokes.npy'\n",
        "stroke_data = np.load(file_path)\n",
        "rearranged_strokes = rearrange_strokes(stroke_data)\n",
        "print(rearranged_strokes)\n",
        "plot_stroke(rearranged_strokes)"
      ],
      "metadata": {
        "id": "FbKQgbQCo1mp",
        "colab": {
          "base_uri": "https://localhost:8080/",
          "height": 543
        },
        "outputId": "cb458644-957f-40c8-e87d-ef01dc474cf9"
      },
      "execution_count": 20,
      "outputs": [
        {
          "output_type": "stream",
          "name": "stdout",
          "text": [
            "[[ 1.00000000  0.00000000  0.00000000]\n",
            " [ 0.00000000  0.01493014 -1.05920172]\n",
            " [ 0.00000000  0.02421103 -1.71762443]\n",
            " ...\n",
            " [ 0.00000000  0.00000000  0.00000000]\n",
            " [ 0.00000000  0.00000000  0.00000000]\n",
            " [ 0.00000000  0.00000000  0.00000000]]\n"
          ]
        },
        {
          "output_type": "display_data",
          "data": {
            "text/plain": [
              "<Figure size 1974.12x500 with 1 Axes>"
            ],
            "image/png": "[encoded data removed]"
          },
          "metadata": {}
        }
      ]
    },
    {
      "cell_type": "code",
      "source": [],
      "metadata": {
        "id": "_7IenkDFDQFn"
      },
      "execution_count": null,
      "outputs": []
    }
  ]
}